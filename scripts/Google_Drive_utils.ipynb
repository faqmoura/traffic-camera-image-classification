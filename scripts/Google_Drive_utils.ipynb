{
  "cells": [
    {
      "cell_type": "code",
      "source": [
        "import os\n",
        "import glob\n",
        "from collections import Counter"
      ],
      "metadata": {
        "id": "3yX9k9tWnjYB"
      },
      "execution_count": null,
      "outputs": []
    },
    {
      "cell_type": "code",
      "execution_count": null,
      "metadata": {
        "id": "OX-pZ4iL1cz-"
      },
      "outputs": [],
      "source": [
        "# Mount Google Drive\n",
        "\n",
        "from google.colab import drive\n",
        "\n",
        "drive.mount('/content/drive')\n"
      ]
    },
    {
      "cell_type": "code",
      "execution_count": null,
      "metadata": {
        "id": "xvOi0KJ5q62v"
      },
      "outputs": [],
      "source": [
        "def delete_images(folder_path, file_size_threshold):\n",
        "  '''Code to delete the image if its size is below a specified threshold'''\n",
        "  # Specify the folder path and the file size threshold\n",
        "  # Specify the size threshold in bytes\n",
        "\n",
        "  # Delete files below the size threshold\n",
        "  deleted_files = 0\n",
        "  for file_name in os.listdir(folder_path):\n",
        "      file_path = os.path.join(folder_path, file_name)\n",
        "\n",
        "        if os.path.isfile(file_path) and os.path.getsize(file_path) < file_size_threshold:\n",
        "          os.remove(file_path)\n",
        "          deleted_files += 1\n",
        "\n",
        "  # Count the number of remaining files in the folder\n",
        "  remaining_files = len(os.listdir(folder_path))\n",
        "\n",
        "  # Print the results\n",
        "  print(f\"Deleted {deleted_files} file(s).\")\n",
        "  print(f\"Number of files remaining in the folder: {remaining_files}.\")\n"
      ]
    },
    {
      "cell_type": "code",
      "source": [
        "def count_files(folder_path):\n",
        "  '''counting the number of files in each folder'''\n",
        "\n",
        "  n_files = len(os.listdir(folder_path))\n",
        "  print(f\"Number of files in the folder: {n_files}.\")"
      ],
      "metadata": {
        "id": "lJbsdHttANKP"
      },
      "execution_count": null,
      "outputs": []
    },
    {
      "cell_type": "code",
      "source": [
        "def count_files_camera(folder_path):\n",
        "  '''counting the files for each camera in a folder'''\n",
        "  cameras = []\n",
        "  for file_name in os.listdir(folder_path):\n",
        "    if '_' in file_name:\n",
        "      cameras.append(file_name.split('_')[1])\n",
        "\n",
        "  return Counter(cameras)\n"
      ],
      "metadata": {
        "id": "ZpVP9QhuYum2"
      },
      "execution_count": null,
      "outputs": []
    }
  ],
  "metadata": {
    "colab": {
      "provenance": [],
      "authorship_tag": "ABX9TyPL7ly/jzWZ0yV8ftP9MVmF"
    },
    "kernelspec": {
      "display_name": "Python 3",
      "name": "python3"
    },
    "language_info": {
      "name": "python"
    }
  },
  "nbformat": 4,
  "nbformat_minor": 0
}