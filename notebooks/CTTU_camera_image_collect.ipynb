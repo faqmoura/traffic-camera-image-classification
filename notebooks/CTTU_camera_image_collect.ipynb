{
  "cells": [
    {
      "cell_type": "markdown",
      "metadata": {
        "id": "view-in-github",
        "colab_type": "text"
      },
      "source": [
        "<a href=\"https://colab.research.google.com/github/faqmoura/traffic-camera-image-classification/blob/main/scripts/CTTU_camera_image_collect.ipynb\" target=\"_parent\"><img src=\"https://colab.research.google.com/assets/colab-badge.svg\" alt=\"Open In Colab\"/></a>"
      ]
    },
    {
      "cell_type": "code",
      "execution_count": null,
      "metadata": {
        "id": "FvIAorIFq68V"
      },
      "outputs": [],
      "source": [
        "# Installing packages\n",
        "\n",
        "!pip install selenium==4.10.0\n",
        "!apt-get update\n",
        "!apt-get install -y firefox"
      ]
    },
    {
      "cell_type": "code",
      "execution_count": null,
      "metadata": {
        "id": "OX-pZ4iL1cz-"
      },
      "outputs": [],
      "source": [
        "# Mount Google Drive\n",
        "\n",
        "from google.colab import drive\n",
        "\n",
        "drive.mount('/content/drive')\n"
      ]
    },
    {
      "cell_type": "code",
      "execution_count": null,
      "metadata": {
        "id": "BYZ1pZfCsRYi"
      },
      "outputs": [],
      "source": [
        "import requests\n",
        "from selenium import webdriver\n",
        "from selenium.webdriver.firefox.options import Options\n",
        "from selenium.webdriver.common.by import By\n",
        "from datetime import datetime\n",
        "\n",
        "options = Options()\n",
        "options.add_argument('-headless')\n",
        "\n",
        "driver = webdriver.Firefox(options=options)\n"
      ]
    },
    {
      "cell_type": "code",
      "execution_count": null,
      "metadata": {
        "id": "AiCDY9hYt4aT"
      },
      "outputs": [],
      "source": [
        "%%time\n",
        "\n",
        "count = 0\n",
        "\n",
        "# the counter will define how many complete rounds of cameras will be collected\n",
        "\n",
        "while count < 9:\n",
        "  # Click in the camera\n",
        "  for i in range(1,102):\n",
        "    driver.get('http://transito.gtrans.com.br/cttupe/index.php/mapa')\n",
        "    camera_element = driver.find_element(By.XPATH, f'//*[@id=\"map_canvas\"]/div[1]/div[2]/div[3]/img[{i}]')\n",
        "\n",
        "\n",
        "    # Scroll the element into view using JavaScript\n",
        "    driver.execute_script(\"arguments[0].scrollIntoView(true);\", camera_element)\n",
        "\n",
        "    # Click the element using JavaScript\n",
        "    driver.execute_script(\"arguments[0].click();\", camera_element)\n",
        "\n",
        "    # Get the image element\n",
        "    image_element = driver.find_element(By.XPATH,'//*[@id=\"imagem\"]')\n",
        "\n",
        "    # Get the image source URL\n",
        "    image_url = image_element.get_attribute('src')\n",
        "\n",
        "    # Download the image using requests library\n",
        "    response = requests.get(image_url)\n",
        "\n",
        "    # Get the date and time\n",
        "    current_datetime = datetime.now()\n",
        "    datetime_string = current_datetime.strftime(\"%Y-%m-%d_%H-%M-%S\")\n",
        "\n",
        "    # Specify the file path where you want to save the image\n",
        "    image_path = f'/content/drive/MyDrive/your_folder/image_{i}_{datetime_string}.jpg'\n",
        "\n",
        "\n",
        "    # Save the image file\n",
        "    with open(image_path, 'wb') as file:\n",
        "      file.write(response.content)\n",
        "    print('Image downloaded successfully at:', image_path)\n",
        "  count += 1\n",
        "  print(count)\n",
        "\n",
        "# Close the browser\n",
        "driver.quit()"
      ]
    }
  ],
  "metadata": {
    "colab": {
      "provenance": [],
      "authorship_tag": "ABX9TyO6B788TJTXlSGq0SMvOEax",
      "include_colab_link": true
    },
    "kernelspec": {
      "display_name": "Python 3",
      "name": "python3"
    },
    "language_info": {
      "name": "python"
    }
  },
  "nbformat": 4,
  "nbformat_minor": 0
}